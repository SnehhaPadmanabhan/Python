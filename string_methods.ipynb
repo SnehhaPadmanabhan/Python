{
  "nbformat": 4,
  "nbformat_minor": 0,
  "metadata": {
    "colab": {
      "name": "string methods.ipynb",
      "provenance": [],
      "include_colab_link": true
    },
    "kernelspec": {
      "name": "python3",
      "display_name": "Python 3"
    }
  },
  "cells": [
    {
      "cell_type": "markdown",
      "metadata": {
        "id": "view-in-github",
        "colab_type": "text"
      },
      "source": [
        "<a href=\"https://colab.research.google.com/github/SnehhaPadmanabhan/Python-notes/blob/master/string_methods.ipynb\" target=\"_parent\"><img src=\"https://colab.research.google.com/assets/colab-badge.svg\" alt=\"Open In Colab\"/></a>"
      ]
    },
    {
      "cell_type": "markdown",
      "metadata": {
        "id": "Z0qVUEfoHAKJ",
        "colab_type": "text"
      },
      "source": [
        "s.caplitalize()\n",
        "\n",
        "s.casefold()\n",
        "\n",
        "s.lower()\n",
        "\n",
        "s.center(width,[,fill])\n",
        "\n",
        "s.lower()\n",
        "\n",
        "s.count(sub,[,start[,end]])\n",
        "\n",
        "s.partition()\n",
        "\n",
        "s.endswith(suffix, [,start[,end]])\n",
        "\n",
        "s.replace(old, new, [,count])\n",
        "\n",
        "s.find(sub,[,start,[end]])\n",
        "\n",
        "s.index(sub,[,start,[end]])\n",
        "\n",
        "s.rjust(width, [,fill])\n",
        "\n",
        "s.rpartition(sep)\n",
        "\n",
        "s.isalphanum()\n",
        "\n",
        "s.isalpha()\n",
        "\n",
        "s.isdecimal()\n",
        "\n",
        "s.isdigit()\n",
        "\n",
        "s.isidentifier()\n",
        "\n",
        "s.islower()\n",
        "\n",
        "s.isupper()\n",
        "\n",
        "s.isnumeric()\n",
        "\n",
        "s.isprintable()\n",
        "\n",
        "s.isspace()\n",
        "\n",
        "s.istitle()\n",
        "\n",
        "s.upper()\n",
        "\n",
        "s.title()"
      ]
    },
    {
      "cell_type": "markdown",
      "metadata": {
        "id": "mw-ho8AbI0fy",
        "colab_type": "text"
      },
      "source": [
        "**Changing strings - replacing the strings**"
      ]
    },
    {
      "cell_type": "code",
      "metadata": {
        "id": "9oPoi9FvI-Z-",
        "colab_type": "code",
        "colab": {
          "base_uri": "https://localhost:8080/",
          "height": 35
        },
        "outputId": "cef1a697-c59a-4bee-9865-e4a26af71eb7"
      },
      "source": [
        "s = 'spammy'\n",
        "s = s[:3] + 'xx' + s[5:]\n",
        "print(s)"
      ],
      "execution_count": 1,
      "outputs": [
        {
          "output_type": "stream",
          "text": [
            "spaxxy\n"
          ],
          "name": "stdout"
        }
      ]
    },
    {
      "cell_type": "code",
      "metadata": {
        "id": "FpjSGujEJLAz",
        "colab_type": "code",
        "colab": {
          "base_uri": "https://localhost:8080/",
          "height": 35
        },
        "outputId": "08d43019-c6fa-491b-d32f-38d2911e7247"
      },
      "source": [
        "s = 'chocolate'\n",
        "s = s[-4:-1] + 'ab' + s[5:6]\n",
        "print(s)"
      ],
      "execution_count": 2,
      "outputs": [
        {
          "output_type": "stream",
          "text": [
            "latabl\n"
          ],
          "name": "stdout"
        }
      ]
    },
    {
      "cell_type": "code",
      "metadata": {
        "id": "WueMccPVKI9f",
        "colab_type": "code",
        "colab": {
          "base_uri": "https://localhost:8080/",
          "height": 35
        },
        "outputId": "73cf7a52-9123-4259-b9aa-d40797b7df49"
      },
      "source": [
        "s = 'chocolate'\n",
        "s = s[-1:-4] + 'ab' + s[-2:]\n",
        "print(s)"
      ],
      "execution_count": 3,
      "outputs": [
        {
          "output_type": "stream",
          "text": [
            "abte\n"
          ],
          "name": "stdout"
        }
      ]
    },
    {
      "cell_type": "code",
      "metadata": {
        "id": "iuwMuTLhKiJO",
        "colab_type": "code",
        "colab": {
          "base_uri": "https://localhost:8080/",
          "height": 35
        },
        "outputId": "518c79ba-3160-44a8-f7bf-10fb4b6d388a"
      },
      "source": [
        "s = 'potato'\n",
        "print(s.replace('o','a'))"
      ],
      "execution_count": 4,
      "outputs": [
        {
          "output_type": "stream",
          "text": [
            "patata\n"
          ],
          "name": "stdout"
        }
      ]
    },
    {
      "cell_type": "code",
      "metadata": {
        "id": "DA3_QQvXLqw0",
        "colab_type": "code",
        "colab": {
          "base_uri": "https://localhost:8080/",
          "height": 35
        },
        "outputId": "e91f9ad0-7a01-4485-d624-5cfeba084869"
      },
      "source": [
        "s = 'chocolate'\n",
        "print(s.find('a'))"
      ],
      "execution_count": 5,
      "outputs": [
        {
          "output_type": "stream",
          "text": [
            "6\n"
          ],
          "name": "stdout"
        }
      ]
    },
    {
      "cell_type": "code",
      "metadata": {
        "id": "hKFffejSMYRA",
        "colab_type": "code",
        "colab": {
          "base_uri": "https://localhost:8080/",
          "height": 35
        },
        "outputId": "14d9ac42-45c7-4119-ef05-9a80527dd20b"
      },
      "source": [
        "s = '1011010001'\n",
        "print(s.replace('0','a'))"
      ],
      "execution_count": 6,
      "outputs": [
        {
          "output_type": "stream",
          "text": [
            "1a11a1aaa1\n"
          ],
          "name": "stdout"
        }
      ]
    },
    {
      "cell_type": "code",
      "metadata": {
        "id": "0T9PweewM8fZ",
        "colab_type": "code",
        "colab": {
          "base_uri": "https://localhost:8080/",
          "height": 54
        },
        "outputId": "bd05209f-fe01-4dd0-b3a4-fc9cd5e098b8"
      },
      "source": [
        "s = 'spammy' # string to list conversion\n",
        "l = list(s)\n",
        "print(l)\n",
        "l[3] = 'a'\n",
        "print(l)"
      ],
      "execution_count": 8,
      "outputs": [
        {
          "output_type": "stream",
          "text": [
            "['s', 'p', 'a', 'm', 'm', 'y']\n",
            "['s', 'p', 'a', 'a', 'm', 'y']\n"
          ],
          "name": "stdout"
        }
      ]
    },
    {
      "cell_type": "code",
      "metadata": {
        "id": "TM7mA2AxQOIN",
        "colab_type": "code",
        "colab": {
          "base_uri": "https://localhost:8080/",
          "height": 54
        },
        "outputId": "a79d357a-263b-403a-c317-babc08446d83"
      },
      "source": [
        "line = 'aaa bbb ccc'\n",
        "cols1 = line.split()\n",
        "cols2 = line.split('a')\n",
        "print(cols1)\n",
        "print(cols2)"
      ],
      "execution_count": 10,
      "outputs": [
        {
          "output_type": "stream",
          "text": [
            "['aaa', 'bbb', 'ccc']\n",
            "['', '', '', ' bbb ccc']\n"
          ],
          "name": "stdout"
        }
      ]
    }
  ]
}