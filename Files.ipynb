{
  "nbformat": 4,
  "nbformat_minor": 0,
  "metadata": {
    "colab": {
      "name": "Files.ipynb",
      "provenance": [],
      "include_colab_link": true
    },
    "kernelspec": {
      "name": "python3",
      "display_name": "Python 3"
    }
  },
  "cells": [
    {
      "cell_type": "markdown",
      "metadata": {
        "id": "view-in-github",
        "colab_type": "text"
      },
      "source": [
        "<a href=\"https://colab.research.google.com/github/SnehhaPadmanabhan/Python-notes/blob/master/Files.ipynb\" target=\"_parent\"><img src=\"https://colab.research.google.com/assets/colab-badge.svg\" alt=\"Open In Colab\"/></a>"
      ]
    },
    {
      "cell_type": "markdown",
      "metadata": {
        "id": "VVsWMMXkQ3q5",
        "colab_type": "text"
      },
      "source": [
        "**Files**\n",
        "- ends with eof character\n",
        "- to move cursor position \n",
        "   - filename.seek(pos)\n",
        "- creating a file in jupyter notebook\n",
        "   - %%writefile filename\n",
        "- \"pwd\" command gives the path of our position\n",
        "\n",
        "- OPENING A FILE\n",
        "   - file = open(\"sample.txt\")\n",
        "     - opens the specified file if present in the specified directory\n",
        "- READING THE FILE\n",
        "   - file.read()\n",
        "      - prints content of the file in a single line\n",
        "      - a b c \\n d e f \\n i j k\n",
        "   - if you give the following sequence of commands\n",
        "      - file.read()\n",
        "      - file.read()\n",
        "      - nothing is printed the second time as cursor position has reached eof  \n"
      ]
    },
    {
      "cell_type": "markdown",
      "metadata": {
        "id": "-5w4r9xUSzGL",
        "colab_type": "text"
      },
      "source": [
        "**Basics syntax**\n",
        " \n",
        " - afile = open(filename, mode, buffering)\n",
        "   - modes : r, w, a\n",
        "   - adding to modes : b, +(input and output)   \n",
        "     - a+ , w+, etc\n",
        "   - buffering = 0 implies after eof if reached, pointer automatically points to the beginning; optional parameter    "
      ]
    },
    {
      "cell_type": "markdown",
      "metadata": {
        "id": "2qzFVXRxToTP",
        "colab_type": "text"
      },
      "source": [
        "**common file operations**\n",
        "\n",
        "- file = open('C:spam', w)\n",
        "  - creates a file in the spam folder for writing purposes\n",
        "- input = open('sample.txt')\n",
        "  - default mode is read mode\n",
        "- astring = file.read()\n",
        "  - reads the entire content into a single string\n",
        "- astring = file.read(n)\n",
        "  - reads upto nth position\n",
        "- atring = file.readline()\n",
        "  - reading line by line including \\n\n",
        "- alist = input.readlines()\n",
        "  - creates a list of lines\n",
        "- file.write(string)\n",
        "  - writes a string into the file\n",
        "- file.writelines(alist)\n",
        "  - writes all lined from a list into the file\n",
        "- file.close()\n",
        "  - closing the manually\n",
        "- outputfile.flush()\n",
        "  - flushes buffer into the disk without closing the file that we have opened\n",
        "- file.seek(n)\n",
        "- for line in open('data')\n",
        "  - reading line by line; whole content is read as a single string otherwise\n",
        "- open('filename', encoding = 'latin')\n",
        "  - explicit mention\n",
        "- open('filename.bin', 'rb') \n"
      ]
    },
    {
      "cell_type": "markdown",
      "metadata": {
        "id": "E0DLhibbJ4Qn",
        "colab_type": "text"
      },
      "source": [
        "x, y, z = 23\n",
        "\n",
        "s = 'spam'\n",
        "\n",
        "d = {'a': 1, 'b' :2}\n",
        "\n",
        "l = {1, 2, 3}\n",
        "\n",
        "F.open('datafile.txt','w')\n",
        "\n",
        "F.write(s + '/n')\n",
        "\n",
        "F.write(\"%s, %s, %s \\n\" %(x, y, z))\n",
        "\n",
        "line = F.readline()\n",
        "\n",
        "line.rstrip() ----------- removes eol \n",
        "\n",
        "eval(line[0])-----------type conversion"
      ]
    }
  ]
}