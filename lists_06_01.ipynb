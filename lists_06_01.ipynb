{
  "nbformat": 4,
  "nbformat_minor": 0,
  "metadata": {
    "colab": {
      "name": "lists-06.01.ipynb",
      "provenance": [],
      "include_colab_link": true
    },
    "kernelspec": {
      "name": "python3",
      "display_name": "Python 3"
    }
  },
  "cells": [
    {
      "cell_type": "markdown",
      "metadata": {
        "id": "view-in-github",
        "colab_type": "text"
      },
      "source": [
        "<a href=\"https://colab.research.google.com/github/SnehhaPadmanabhan/Python-notes/blob/master/lists_06_01.ipynb\" target=\"_parent\"><img src=\"https://colab.research.google.com/assets/colab-badge.svg\" alt=\"Open In Colab\"/></a>"
      ]
    },
    {
      "cell_type": "markdown",
      "metadata": {
        "id": "tkFRMPSHSMtq",
        "colab_type": "text"
      },
      "source": [
        "**properties of list**\n",
        "\n",
        "1. ordered collection\n",
        "\n",
        "2. accessed by offset\n",
        "\n",
        "3. variable length, heterogeneous\n",
        "\n",
        "4. mutable\n",
        "\n",
        "5. array of object references\n",
        "\n",
        "**variations of paranthesis**\n",
        "\n",
        "1. () - function, tuple\n",
        "\n",
        "2. [] - list\n",
        "\n",
        "3. {} - dictionary\n",
        "\n",
        "**methods**\n",
        "\n",
        "l.append(4)\n",
        "\n",
        "l.extend([1,2,3]) # adding multiple objects at the same time\n",
        "\n",
        "l.insert(i,x)   -------------  *insert x at ith index*\n",
        "\n",
        "l.index(x)---------*returns position*\n",
        "\n",
        "l.count(x)-------*number of occurances*\n",
        "\n",
        "l.sort()\n",
        "\n",
        "l.reverse()\n",
        "\n",
        "l.copy()-----*copy the list into a new list*\n",
        "\n",
        "l.clear()----------*remove all objects of the list*\n",
        "\n",
        "l.pop()\n",
        "\n",
        "l.remove(x)------*remove the element x*\n",
        "\n",
        "del l[i]-----*deleting by using index value*\n",
        "\n",
        "del[i:j]-------*delete the slice*\n",
        "\n",
        "l[i:j] = []\n",
        "\n",
        "l[i] = x--------*assignment*\n",
        "\n",
        "l[i:j] = [1,12,13]\n",
        "\n",
        "l = [x**2 for x in range(5)]--------*powers of 2*"
      ]
    },
    {
      "cell_type": "code",
      "metadata": {
        "id": "pu0kCHvUVWrU",
        "colab_type": "code",
        "colab": {
          "base_uri": "https://localhost:8080/",
          "height": 72
        },
        "outputId": "649343cd-ba82-4fd3-8570-8e942b8580dc"
      },
      "source": [
        "print(len([1,2,3]))\n",
        "print([1,2,3]+[5,6,7]) # concatenation\n",
        "print(['Hi']*4)"
      ],
      "execution_count": 1,
      "outputs": [
        {
          "output_type": "stream",
          "text": [
            "3\n",
            "[1, 2, 3, 5, 6, 7]\n",
            "['Hi', 'Hi', 'Hi', 'Hi']\n"
          ],
          "name": "stdout"
        }
      ]
    },
    {
      "cell_type": "code",
      "metadata": {
        "id": "66OCul51QhsQ",
        "colab_type": "code",
        "colab": {
          "base_uri": "https://localhost:8080/",
          "height": 72
        },
        "outputId": "27517524-9c1c-4739-8501-5b4a200f3317"
      },
      "source": [
        "# print(str([1,2] + \"34\")) # list -> string -> error\n",
        "print([1,2] + list(\"34\")) # string -> list\n",
        "\n",
        "print(3 in [1,2,3])\n",
        "\n",
        "for x in [1,2,3]:\n",
        "  print(x,end = ' ')"
      ],
      "execution_count": 3,
      "outputs": [
        {
          "output_type": "stream",
          "text": [
            "[1, 2, '3', '4']\n",
            "True\n",
            "1 2 3 "
          ],
          "name": "stdout"
        }
      ]
    },
    {
      "cell_type": "code",
      "metadata": {
        "id": "WECNVIQkWkEV",
        "colab_type": "code",
        "colab": {
          "base_uri": "https://localhost:8080/",
          "height": 54
        },
        "outputId": "cd8aac51-4740-4ec5-8b97-a62bad8b97c3"
      },
      "source": [
        "res = [c*4 for c in 'SPAM']\n",
        "print(res)\n",
        "\n",
        "res = []\n",
        "for  c in 'SPAM':\n",
        "  res.append(c*4)\n",
        "print(res)"
      ],
      "execution_count": 6,
      "outputs": [
        {
          "output_type": "stream",
          "text": [
            "['SSSS', 'PPPP', 'AAAA', 'MMMM']\n",
            "['SSSS', 'PPPP', 'AAAA', 'MMMM']\n"
          ],
          "name": "stdout"
        }
      ]
    },
    {
      "cell_type": "code",
      "metadata": {
        "id": "S-6VRUE5XN8N",
        "colab_type": "code",
        "colab": {}
      },
      "source": [
        ""
      ],
      "execution_count": 0,
      "outputs": []
    }
  ]
}