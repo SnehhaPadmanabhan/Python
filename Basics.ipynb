{
  "nbformat": 4,
  "nbformat_minor": 0,
  "metadata": {
    "colab": {
      "name": "Basics.ipynb",
      "provenance": [],
      "include_colab_link": true
    },
    "kernelspec": {
      "name": "python3",
      "display_name": "Python 3"
    }
  },
  "cells": [
    {
      "cell_type": "markdown",
      "metadata": {
        "id": "view-in-github",
        "colab_type": "text"
      },
      "source": [
        "<a href=\"https://colab.research.google.com/github/SnehhaPadmanabhan/Python/blob/master/Basics.ipynb\" target=\"_parent\"><img src=\"https://colab.research.google.com/assets/colab-badge.svg\" alt=\"Open In Colab\"/></a>"
      ]
    },
    {
      "cell_type": "code",
      "metadata": {
        "id": "A8zNQcLPpege",
        "colab_type": "code",
        "outputId": "c027497f-9927-409f-c0ec-1daabbb1ca1c",
        "colab": {
          "base_uri": "https://localhost:8080/",
          "height": 72
        }
      },
      "source": [
        "print(5/2) #true division\n",
        "print(5//2) # floor division\n",
        "print(5/2.0)"
      ],
      "execution_count": 0,
      "outputs": [
        {
          "output_type": "stream",
          "text": [
            "2.5\n",
            "2\n",
            "2.5\n"
          ],
          "name": "stdout"
        }
      ]
    },
    {
      "cell_type": "code",
      "metadata": {
        "id": "g7KdzkvLtnnE",
        "colab_type": "code",
        "outputId": "866666fe-dfea-4801-91ef-f6c8ae76d6ff",
        "colab": {
          "base_uri": "https://localhost:8080/",
          "height": 54
        }
      },
      "source": [
        "a = 6.66\n",
        "print(type(a))\n",
        "a = 10\n",
        "print(type(a))"
      ],
      "execution_count": 0,
      "outputs": [
        {
          "output_type": "stream",
          "text": [
            "<class 'float'>\n",
            "<class 'int'>\n"
          ],
          "name": "stdout"
        }
      ]
    },
    {
      "cell_type": "code",
      "metadata": {
        "id": "-jt708VMuprf",
        "colab_type": "code",
        "outputId": "ea524749-eb59-4625-8e30-17790d08d4cf",
        "colab": {
          "base_uri": "https://localhost:8080/",
          "height": 54
        }
      },
      "source": [
        "print(1)\n",
        "print(2)"
      ],
      "execution_count": 0,
      "outputs": [
        {
          "output_type": "stream",
          "text": [
            "1\n",
            "2\n"
          ],
          "name": "stdout"
        }
      ]
    },
    {
      "cell_type": "markdown",
      "metadata": {
        "id": "Wzbtf5_7ttiY",
        "colab_type": "text"
      },
      "source": [
        "Variable assignments\n",
        "   1. normal var in lower and global in upper : general convention\n",
        "   2. keywords cant be used\n",
        "   3. cant have spl char\n",
        "Variable can recieve any data type at any time"
      ]
    },
    {
      "cell_type": "markdown",
      "metadata": {
        "id": "ZbNAn1e4vtaQ",
        "colab_type": "text"
      },
      "source": [
        "Python Expression operators\n",
        "1. yield x\n",
        "2. lambda args:expression\n",
        "       anonymous funtion generation\n",
        "3. x in y else z\n",
        "4. x or y\n",
        "5. x and y\n",
        "6. not x\n",
        "7. x in y, x not in y\n",
        "     for sets\n",
        "8. x is y, x is not y\n",
        "     to check objs\n",
        "9. x <y , x<=y , x>y , x>=y\n",
        "     mag check : set, subset, superset\n",
        "10. x==y and x!=y\n",
        "     val equality ops\n",
        "11. x|y\n",
        "12. x^y\n",
        "     bitwise xor\n",
        "13. x&y\n",
        "14. x<<y, x>>y\n",
        "       shifting\n",
        "15. x+y\n",
        "16. x-y\n",
        "17. x*y\n",
        "18. x%y\n",
        "19. x/y, x//y\n",
        "20. -x, +x\n",
        "     negation and identity\n",
        "22. x**y\n",
        "23. x[i]\n",
        "24. x[i:j:k]\n",
        "       slicing in 3.x\n",
        "    x[slice(i,j,k)]\n",
        "       slicing in 2.x\n",
        "25. x(...)\n",
        "       call operator\n",
        "26. x.attr\n",
        "27. (...)\n",
        "     tuple\n",
        "28.[...]\n",
        "     list\n",
        "29.{..}\n",
        "     set\n",
        "\n",
        "    Bottom most ops have more priority"
      ]
    },
    {
      "cell_type": "code",
      "metadata": {
        "id": "94zirosdyqqw",
        "colab_type": "code",
        "outputId": "c6676876-1e14-4370-9026-955523f23636",
        "colab": {
          "base_uri": "https://localhost:8080/",
          "height": 54
        }
      },
      "source": [
        "import math\n",
        "print(math.pow(2,3))\n",
        "print(2**3)"
      ],
      "execution_count": 0,
      "outputs": [
        {
          "output_type": "stream",
          "text": [
            "8.0\n",
            "8\n"
          ],
          "name": "stdout"
        }
      ]
    },
    {
      "cell_type": "markdown",
      "metadata": {
        "id": "2D4iNfJZy2y_",
        "colab_type": "text"
      },
      "source": [
        "x<y<z -> chain comparison -> x<y and x<z"
      ]
    },
    {
      "cell_type": "code",
      "metadata": {
        "id": "Js7AqzqrzBS6",
        "colab_type": "code",
        "outputId": "657bb356-d190-44be-923b-31ad3abd7dcc",
        "colab": {
          "base_uri": "https://localhost:8080/",
          "height": 54
        }
      },
      "source": [
        "x=2\n",
        "y=3\n",
        "z=4\n",
        "print(x<y<z)\n",
        "print(x<y>z)"
      ],
      "execution_count": 0,
      "outputs": [
        {
          "output_type": "stream",
          "text": [
            "True\n",
            "False\n"
          ],
          "name": "stdout"
        }
      ]
    },
    {
      "cell_type": "code",
      "metadata": {
        "id": "MZS2g-Qsz0EH",
        "colab_type": "code",
        "outputId": "0d49ad5b-132c-46b9-89b2-fbeabbd834db",
        "colab": {
          "base_uri": "https://localhost:8080/",
          "height": 35
        }
      },
      "source": [
        "print(5+10*10+3/2)"
      ],
      "execution_count": 0,
      "outputs": [
        {
          "output_type": "stream",
          "text": [
            "106.5\n"
          ],
          "name": "stdout"
        }
      ]
    },
    {
      "cell_type": "code",
      "metadata": {
        "id": "OsjnojOd1Hs0",
        "colab_type": "code",
        "outputId": "7505649e-a515-4aba-f052-63a192334a0d",
        "colab": {
          "base_uri": "https://localhost:8080/",
          "height": 54
        }
      },
      "source": [
        "# FORCE ISSUE CALLING\n",
        "print(int(3.21))\n",
        "print(float(1)) # not called type casting"
      ],
      "execution_count": 0,
      "outputs": [
        {
          "output_type": "stream",
          "text": [
            "3\n",
            "1.0\n"
          ],
          "name": "stdout"
        }
      ]
    },
    {
      "cell_type": "code",
      "metadata": {
        "id": "p5QU10P91hyw",
        "colab_type": "code",
        "outputId": "afe24f7e-43fb-48cc-b8fe-d4e5d0179c84",
        "colab": {
          "base_uri": "https://localhost:8080/",
          "height": 35
        }
      },
      "source": [
        "a = 5\n",
        "b = 5\n",
        "c = a+b\n",
        "d = c+10\n",
        "print(c+d)"
      ],
      "execution_count": 0,
      "outputs": [
        {
          "output_type": "stream",
          "text": [
            "30\n"
          ],
          "name": "stdout"
        }
      ]
    },
    {
      "cell_type": "code",
      "metadata": {
        "id": "3ZdySuOR1v8S",
        "colab_type": "code",
        "outputId": "10562a53-1c6f-402d-f823-3c92a0f5b729",
        "colab": {
          "base_uri": "https://localhost:8080/",
          "height": 246
        }
      },
      "source": [
        "import math\n",
        "print(math.sqrt(10))\n",
        "print(math.mod(5,2))\n",
        "print(math.pow(5,2))"
      ],
      "execution_count": 0,
      "outputs": [
        {
          "output_type": "stream",
          "text": [
            "3.1622776601683795\n"
          ],
          "name": "stdout"
        },
        {
          "output_type": "error",
          "ename": "AttributeError",
          "evalue": "ignored",
          "traceback": [
            "\u001b[0;31m---------------------------------------------------------------------------\u001b[0m",
            "\u001b[0;31mAttributeError\u001b[0m                            Traceback (most recent call last)",
            "\u001b[0;32m<ipython-input-12-36087cfdf9cf>\u001b[0m in \u001b[0;36m<module>\u001b[0;34m()\u001b[0m\n\u001b[1;32m      1\u001b[0m \u001b[0;32mimport\u001b[0m \u001b[0mmath\u001b[0m\u001b[0;34m\u001b[0m\u001b[0;34m\u001b[0m\u001b[0m\n\u001b[1;32m      2\u001b[0m \u001b[0mprint\u001b[0m\u001b[0;34m(\u001b[0m\u001b[0mmath\u001b[0m\u001b[0;34m.\u001b[0m\u001b[0msqrt\u001b[0m\u001b[0;34m(\u001b[0m\u001b[0;36m10\u001b[0m\u001b[0;34m)\u001b[0m\u001b[0;34m)\u001b[0m\u001b[0;34m\u001b[0m\u001b[0;34m\u001b[0m\u001b[0m\n\u001b[0;32m----> 3\u001b[0;31m \u001b[0mprint\u001b[0m\u001b[0;34m(\u001b[0m\u001b[0mmath\u001b[0m\u001b[0;34m.\u001b[0m\u001b[0mmod\u001b[0m\u001b[0;34m(\u001b[0m\u001b[0;36m5\u001b[0m\u001b[0;34m,\u001b[0m\u001b[0;36m2\u001b[0m\u001b[0;34m)\u001b[0m\u001b[0;34m)\u001b[0m\u001b[0;34m\u001b[0m\u001b[0;34m\u001b[0m\u001b[0m\n\u001b[0m\u001b[1;32m      4\u001b[0m \u001b[0mprint\u001b[0m\u001b[0;34m(\u001b[0m\u001b[0mmath\u001b[0m\u001b[0;34m.\u001b[0m\u001b[0mpow\u001b[0m\u001b[0;34m(\u001b[0m\u001b[0;36m5\u001b[0m\u001b[0;34m,\u001b[0m\u001b[0;36m2\u001b[0m\u001b[0;34m)\u001b[0m\u001b[0;34m)\u001b[0m\u001b[0;34m\u001b[0m\u001b[0;34m\u001b[0m\u001b[0m\n",
            "\u001b[0;31mAttributeError\u001b[0m: module 'math' has no attribute 'mod'"
          ]
        }
      ]
    }
  ]
}