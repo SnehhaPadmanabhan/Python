{
  "nbformat": 4,
  "nbformat_minor": 0,
  "metadata": {
    "colab": {
      "name": "lists.ipynb",
      "provenance": [],
      "include_colab_link": true
    },
    "kernelspec": {
      "name": "python3",
      "display_name": "Python 3"
    }
  },
  "cells": [
    {
      "cell_type": "markdown",
      "metadata": {
        "id": "view-in-github",
        "colab_type": "text"
      },
      "source": [
        "<a href=\"https://colab.research.google.com/github/SnehhaPadmanabhan/Python-notes/blob/master/lists.ipynb\" target=\"_parent\"><img src=\"https://colab.research.google.com/assets/colab-badge.svg\" alt=\"Open In Colab\"/></a>"
      ]
    },
    {
      "cell_type": "code",
      "metadata": {
        "id": "j3sbU71FfZlu",
        "colab_type": "code",
        "colab": {
          "base_uri": "https://localhost:8080/",
          "height": 72
        },
        "outputId": "9a92fffb-e9d1-491c-962f-b6926f516a7c"
      },
      "source": [
        "list1 = ['1','2','3']\n",
        "list2 = ['4','5','6']\n",
        "print(list1)\n",
        "print(list2)\n",
        "print(list1 + list2)"
      ],
      "execution_count": 1,
      "outputs": [
        {
          "output_type": "stream",
          "text": [
            "['1', '2', '3']\n",
            "['4', '5', '6']\n",
            "['1', '2', '3', '4', '5', '6']\n"
          ],
          "name": "stdout"
        }
      ]
    },
    {
      "cell_type": "code",
      "metadata": {
        "id": "AonuNkPphlZw",
        "colab_type": "code",
        "colab": {
          "base_uri": "https://localhost:8080/",
          "height": 54
        },
        "outputId": "a56fab90-0d83-44ab-dea7-3e4f6dff3eaa"
      },
      "source": [
        "list1.append('seven')\n",
        "print(list1)\n",
        "list1.pop() # removes last element from the list\n",
        "print(list1)"
      ],
      "execution_count": 2,
      "outputs": [
        {
          "output_type": "stream",
          "text": [
            "['1', '2', '3', 'seven']\n",
            "['1', '2', '3']\n"
          ],
          "name": "stdout"
        }
      ]
    },
    {
      "cell_type": "markdown",
      "metadata": {
        "id": "e75GZGw_iZnm",
        "colab_type": "text"
      },
      "source": [
        "**Sorting the list**"
      ]
    },
    {
      "cell_type": "code",
      "metadata": {
        "id": "IFe202aVibyi",
        "colab_type": "code",
        "colab": {
          "base_uri": "https://localhost:8080/",
          "height": 54
        },
        "outputId": "dfe36f52-160b-4a09-b6d2-16eecd382632"
      },
      "source": [
        "list1 = [1,3,5,7,2,4,6,8]\n",
        "list2 = ['a','c','d','b','f']\n",
        "list1.sort() # no return value\n",
        "print(list1)\n",
        "list2.sort()\n",
        "print(list2)"
      ],
      "execution_count": 3,
      "outputs": [
        {
          "output_type": "stream",
          "text": [
            "[1, 2, 3, 4, 5, 6, 7, 8]\n",
            "['a', 'b', 'c', 'd', 'f']\n"
          ],
          "name": "stdout"
        }
      ]
    },
    {
      "cell_type": "code",
      "metadata": {
        "id": "Y3E2gZXYiwU1",
        "colab_type": "code",
        "colab": {
          "base_uri": "https://localhost:8080/",
          "height": 54
        },
        "outputId": "442b2f2e-f7b1-4c15-c376-9ef7b336210f"
      },
      "source": [
        "l = list1.reverse()\n",
        "print(l)\n",
        "print(list1.reverse())"
      ],
      "execution_count": 5,
      "outputs": [
        {
          "output_type": "stream",
          "text": [
            "None\n",
            "None\n"
          ],
          "name": "stdout"
        }
      ]
    },
    {
      "cell_type": "code",
      "metadata": {
        "id": "ikXOKnEZkAct",
        "colab_type": "code",
        "colab": {
          "base_uri": "https://localhost:8080/",
          "height": 35
        },
        "outputId": "8be2ae79-9373-4025-ae14-5268927a7095"
      },
      "source": [
        "list1.reverse()\n",
        "print(list1)"
      ],
      "execution_count": 6,
      "outputs": [
        {
          "output_type": "stream",
          "text": [
            "[1, 2, 3, 4, 5, 6, 7, 8]\n"
          ],
          "name": "stdout"
        }
      ]
    },
    {
      "cell_type": "code",
      "metadata": {
        "id": "c3wZsyaQkGQ_",
        "colab_type": "code",
        "colab": {
          "base_uri": "https://localhost:8080/",
          "height": 72
        },
        "outputId": "2a9db878-bddf-414f-c399-9961a75a4248"
      },
      "source": [
        "l = [[1,2,3],[4,5,6],[7,8,9]]\n",
        "print(l[0])\n",
        "print(l[0][0])\n",
        "print(l[0][0:2])"
      ],
      "execution_count": 8,
      "outputs": [
        {
          "output_type": "stream",
          "text": [
            "[1, 2, 3]\n",
            "1\n",
            "[1, 2]\n"
          ],
          "name": "stdout"
        }
      ]
    },
    {
      "cell_type": "markdown",
      "metadata": {
        "id": "L2HweUt8mac_",
        "colab_type": "text"
      },
      "source": [
        "**Dictionaries**"
      ]
    },
    {
      "cell_type": "code",
      "metadata": {
        "id": "wvXmOv0olZwm",
        "colab_type": "code",
        "colab": {
          "base_uri": "https://localhost:8080/",
          "height": 35
        },
        "outputId": "c6c3958b-b507-417a-f742-047b87de8712"
      },
      "source": [
        "# unordered sequence\n",
        "l = {'key1':'val1','key2':'val2'}\n",
        "print(l)"
      ],
      "execution_count": 9,
      "outputs": [
        {
          "output_type": "stream",
          "text": [
            "{'key1': 'val1', 'key2': 'val2'}\n"
          ],
          "name": "stdout"
        }
      ]
    },
    {
      "cell_type": "code",
      "metadata": {
        "id": "OL8HzLpMmt81",
        "colab_type": "code",
        "colab": {
          "base_uri": "https://localhost:8080/",
          "height": 35
        },
        "outputId": "6b4fc9c5-5dc0-4da6-9ea4-aa6e07c2887e"
      },
      "source": [
        "print(l['key1'])"
      ],
      "execution_count": 10,
      "outputs": [
        {
          "output_type": "stream",
          "text": [
            "val1\n"
          ],
          "name": "stdout"
        }
      ]
    },
    {
      "cell_type": "code",
      "metadata": {
        "id": "7S4af9qBodKS",
        "colab_type": "code",
        "colab": {
          "base_uri": "https://localhost:8080/",
          "height": 35
        },
        "outputId": "3ccdab46-797e-44eb-b461-c1dfb9bd99b0"
      },
      "source": [
        "l = {'k1':['a','b','c'],'k2':['d','e','f']}\n",
        "print(l['k1'][2])"
      ],
      "execution_count": 12,
      "outputs": [
        {
          "output_type": "stream",
          "text": [
            "c\n"
          ],
          "name": "stdout"
        }
      ]
    }
  ]
}