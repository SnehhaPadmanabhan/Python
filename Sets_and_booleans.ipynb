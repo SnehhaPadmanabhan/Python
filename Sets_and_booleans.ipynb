{
  "nbformat": 4,
  "nbformat_minor": 0,
  "metadata": {
    "colab": {
      "name": "Sets and booleans.ipynb",
      "provenance": [],
      "include_colab_link": true
    },
    "kernelspec": {
      "name": "python3",
      "display_name": "Python 3"
    }
  },
  "cells": [
    {
      "cell_type": "markdown",
      "metadata": {
        "id": "view-in-github",
        "colab_type": "text"
      },
      "source": [
        "<a href=\"https://colab.research.google.com/github/SnehhaPadmanabhan/Python-notes/blob/master/Sets_and_booleans.ipynb\" target=\"_parent\"><img src=\"https://colab.research.google.com/assets/colab-badge.svg\" alt=\"Open In Colab\"/></a>"
      ]
    },
    {
      "cell_type": "markdown",
      "metadata": {
        "id": "NN4zkc3EORsA",
        "colab_type": "text"
      },
      "source": [
        "**Sets**\n",
        "\n",
        "- unordered collection of *unique* objects\n",
        "- use {}"
      ]
    },
    {
      "cell_type": "code",
      "metadata": {
        "id": "56HenpQoOO7M",
        "colab_type": "code",
        "colab": {
          "base_uri": "https://localhost:8080/",
          "height": 72
        },
        "outputId": "b83f2ba1-e3c1-424f-bf2b-6f2d6b98dbec"
      },
      "source": [
        "s = ('a',1)\n",
        "print(s)\n",
        "\n",
        "t = (1, 1, 2, 3, 3)\n",
        "s = set(t)\n",
        "print(s)\n",
        "\n",
        "# empty set - **IMPORTANT**\n",
        "set1 = ()\n",
        "print(set1) "
      ],
      "execution_count": 2,
      "outputs": [
        {
          "output_type": "stream",
          "text": [
            "('a', 1)\n",
            "{1, 2, 3}\n",
            "()\n"
          ],
          "name": "stdout"
        }
      ]
    },
    {
      "cell_type": "markdown",
      "metadata": {
        "id": "eoj-eEf4PRnj",
        "colab_type": "text"
      },
      "source": [
        "**Adding elements to the set**"
      ]
    },
    {
      "cell_type": "code",
      "metadata": {
        "id": "G43j1TVuPBiq",
        "colab_type": "code",
        "colab": {
          "base_uri": "https://localhost:8080/",
          "height": 90
        },
        "outputId": "413b984c-e3e2-4023-ec03-76cbebf3e700"
      },
      "source": [
        "s = {1, 11}\n",
        "print(type(s))\n",
        "s.add(22)\n",
        "print(s)\n",
        "s.add(22) # no error\n",
        "print(s)\n",
        "s.add(33)\n",
        "print(s)"
      ],
      "execution_count": 5,
      "outputs": [
        {
          "output_type": "stream",
          "text": [
            "<class 'set'>\n",
            "{1, 11, 22}\n",
            "{1, 11, 22}\n",
            "{1, 11, 22, 33}\n"
          ],
          "name": "stdout"
        }
      ]
    },
    {
      "cell_type": "markdown",
      "metadata": {
        "id": "NomFHXB1P-5X",
        "colab_type": "text"
      },
      "source": [
        "**BOOLEANS**\n",
        "- \"True\" or \"False\"\n",
        "- used for \n",
        "  - control flow\n",
        "  - setting the logic"
      ]
    },
    {
      "cell_type": "code",
      "metadata": {
        "id": "hthvr3-1P136",
        "colab_type": "code",
        "colab": {
          "base_uri": "https://localhost:8080/",
          "height": 35
        },
        "outputId": "1c7c8e5b-0173-4286-eff5-87fa8cc30b94"
      },
      "source": [
        "print(1>2)"
      ],
      "execution_count": 6,
      "outputs": [
        {
          "output_type": "stream",
          "text": [
            "False\n"
          ],
          "name": "stdout"
        }
      ]
    },
    {
      "cell_type": "code",
      "metadata": {
        "id": "_cUUBnZxQQpb",
        "colab_type": "code",
        "colab": {
          "base_uri": "https://localhost:8080/",
          "height": 172
        },
        "outputId": "5f44b37b-4429-4d3a-e5a4-11f2143a40a4"
      },
      "source": [
        "b"
      ],
      "execution_count": 7,
      "outputs": [
        {
          "output_type": "error",
          "ename": "NameError",
          "evalue": "ignored",
          "traceback": [
            "\u001b[0;31m---------------------------------------------------------------------------\u001b[0m",
            "\u001b[0;31mNameError\u001b[0m                                 Traceback (most recent call last)",
            "\u001b[0;32m<ipython-input-7-89e6c98d9288>\u001b[0m in \u001b[0;36m<module>\u001b[0;34m()\u001b[0m\n\u001b[0;32m----> 1\u001b[0;31m \u001b[0mb\u001b[0m\u001b[0;34m\u001b[0m\u001b[0;34m\u001b[0m\u001b[0m\n\u001b[0m",
            "\u001b[0;31mNameError\u001b[0m: name 'b' is not defined"
          ]
        }
      ]
    },
    {
      "cell_type": "code",
      "metadata": {
        "id": "SzC-yDTvQUgn",
        "colab_type": "code",
        "colab": {
          "base_uri": "https://localhost:8080/",
          "height": 35
        },
        "outputId": "dc018b63-cb03-4b7e-b9de-967d96ee7273"
      },
      "source": [
        "b = None # we need to use a variable but it doesn't have a value - overcomes error of previous cell\n",
        "print(b)"
      ],
      "execution_count": 8,
      "outputs": [
        {
          "output_type": "stream",
          "text": [
            "None\n"
          ],
          "name": "stdout"
        }
      ]
    }
  ]
}