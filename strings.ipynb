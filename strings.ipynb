{
  "nbformat": 4,
  "nbformat_minor": 0,
  "metadata": {
    "colab": {
      "name": "strings.ipynb",
      "provenance": [],
      "include_colab_link": true
    },
    "kernelspec": {
      "name": "python3",
      "display_name": "Python 3"
    }
  },
  "cells": [
    {
      "cell_type": "markdown",
      "metadata": {
        "id": "view-in-github",
        "colab_type": "text"
      },
      "source": [
        "<a href=\"https://colab.research.google.com/github/SnehhaPadmanabhan/Python-notes/blob/master/strings.ipynb\" target=\"_parent\"><img src=\"https://colab.research.google.com/assets/colab-badge.svg\" alt=\"Open In Colab\"/></a>"
      ]
    },
    {
      "cell_type": "code",
      "metadata": {
        "id": "KCUA6SqODUi6",
        "colab_type": "code",
        "colab": {
          "base_uri": "https://localhost:8080/",
          "height": 90
        },
        "outputId": "7b9d2004-77bd-49e6-c997-d217437b73b0"
      },
      "source": [
        "s = 'Spam'\n",
        "print(len(s))\n",
        "print(s[0])\n",
        "print(s[1])\n",
        "print(s[-1])"
      ],
      "execution_count": 1,
      "outputs": [
        {
          "output_type": "stream",
          "text": [
            "4\n",
            "S\n",
            "p\n",
            "m\n"
          ],
          "name": "stdout"
        }
      ]
    },
    {
      "cell_type": "markdown",
      "metadata": {
        "id": "akq08YOGD843",
        "colab_type": "text"
      },
      "source": [
        "left to right - indexing starts from 0\n",
        "\n",
        "right to left - indexing starts from -1\n",
        "\n",
        "Unlike other languages, python considers escape sequence as chararcters as well. See implementation in next 2 cells"
      ]
    },
    {
      "cell_type": "code",
      "metadata": {
        "id": "SHhI78kqEo1E",
        "colab_type": "code",
        "colab": {
          "base_uri": "https://localhost:8080/",
          "height": 35
        },
        "outputId": "b66ee5a5-0e3d-4acc-c122-76fd57ff6c52"
      },
      "source": [
        "s = 'space \\n mat'\n",
        "s"
      ],
      "execution_count": 2,
      "outputs": [
        {
          "output_type": "execute_result",
          "data": {
            "text/plain": [
              "'space \\n mat'"
            ]
          },
          "metadata": {
            "tags": []
          },
          "execution_count": 2
        }
      ]
    },
    {
      "cell_type": "code",
      "metadata": {
        "id": "sDsYMHGkEvF0",
        "colab_type": "code",
        "colab": {
          "base_uri": "https://localhost:8080/",
          "height": 54
        },
        "outputId": "73ff67fc-3eb9-401e-e5d1-abbb322a3092"
      },
      "source": [
        "print(s)"
      ],
      "execution_count": 3,
      "outputs": [
        {
          "output_type": "stream",
          "text": [
            "space \n",
            " mat\n"
          ],
          "name": "stdout"
        }
      ]
    },
    {
      "cell_type": "markdown",
      "metadata": {
        "id": "KxeuSm1_E4X1",
        "colab_type": "text"
      },
      "source": [
        "In python 3.x, there are 3 types of string\n",
        "\n",
        "  1. str - unicode text\n",
        "  2. bytes - binary data\n",
        "  3. bytearray - mutable\n",
        "\n",
        "File modes : 1. text   2. binary\n",
        "\n",
        "In 2.x str is used for both 8 bit text and binary data (diff btw str in 2.x and 3.x)"
      ]
    },
    {
      "cell_type": "markdown",
      "metadata": {
        "id": "nchSnjUkFrS7",
        "colab_type": "text"
      },
      "source": [
        "**String literals in python**\n",
        "  1.  single quotes : 'spa\"m'\n",
        "  2. double quotes \"spa'm\"\n",
        "  3.  triple quotes for multiple lines : '''...spam...''' , \"\"\"....spam...\"\"\n",
        "  4.  escape sequence\n",
        "  5.  raw strings : r'C:\\new\\test.py'\n",
        "  6.  byte literals : b'sp\\x01am'\n",
        "  7.  unicode literals : u'eggs\\u0020spam'"
      ]
    },
    {
      "cell_type": "code",
      "metadata": {
        "id": "OCa0aRDyGZBg",
        "colab_type": "code",
        "colab": {
          "base_uri": "https://localhost:8080/",
          "height": 90
        },
        "outputId": "683a62d6-b75e-4610-c79e-77ea7e1ecad7"
      },
      "source": [
        "print(u'eggs\\u0020spam') # 0020 is space in unicode\n",
        "print('spam\"')\n",
        "print(\"spam'\")\n",
        "title = \"meaning\" 'of' \"life\" # automatic concatenation\n",
        "print(title)"
      ],
      "execution_count": 4,
      "outputs": [
        {
          "output_type": "stream",
          "text": [
            "eggs spam\n",
            "spam\"\n",
            "spam'\n",
            "meaningoflife\n"
          ],
          "name": "stdout"
        }
      ]
    },
    {
      "cell_type": "code",
      "metadata": {
        "id": "Wa_IgNQOH_pT",
        "colab_type": "code",
        "colab": {
          "base_uri": "https://localhost:8080/",
          "height": 72
        },
        "outputId": "48acf691-dbe5-4552-e6de-e9e20b442b50"
      },
      "source": [
        "# escape sequences in python\n",
        "str = 'a\\nb\\tc'\n",
        "print(str)\n",
        "print(len(str))"
      ],
      "execution_count": 5,
      "outputs": [
        {
          "output_type": "stream",
          "text": [
            "a\n",
            "b\tc\n",
            "5\n"
          ],
          "name": "stdout"
        }
      ]
    },
    {
      "cell_type": "markdown",
      "metadata": {
        "id": "o07I-kwGIbP4",
        "colab_type": "text"
      },
      "source": [
        "**ESCAPE SEQUENCE CHARACTERS**\n",
        "\n",
        "\\\\ , \\* , \\a, \\b\n",
        "\n",
        "\\n -  newline\n",
        "\n",
        "\\r - carriage return\n",
        "\n",
        "\\t - horizontal lab\n",
        "\n",
        "\\v - vertical tab\n",
        "\n",
        "\\xhh - character with hexadecimal value\n",
        "\n",
        "\\ooo - octal\n",
        "\n",
        "\\0 - null\n",
        "\n",
        "\\N[ id ] - unicode database id\n",
        "\n",
        "\\uhhhh - unicode character with 16 bit hexadecimal value\n",
        "\n",
        "\\uhhhhhhhh - unicode character with 32 bit hexa value\n",
        "\n",
        "\\other - keeps both \\ and other - not escape sequence"
      ]
    },
    {
      "cell_type": "code",
      "metadata": {
        "id": "c6rXoRvkJgGh",
        "colab_type": "code",
        "colab": {
          "base_uri": "https://localhost:8080/",
          "height": 35
        },
        "outputId": "6d0c4dfe-3fcc-4169-b0ef-15e21b1c326d"
      },
      "source": [
        "s = '\\001\\002\\x03'\n",
        "s"
      ],
      "execution_count": 8,
      "outputs": [
        {
          "output_type": "execute_result",
          "data": {
            "text/plain": [
              "'\\x01\\x02\\x03'"
            ]
          },
          "metadata": {
            "tags": []
          },
          "execution_count": 8
        }
      ]
    },
    {
      "cell_type": "code",
      "metadata": {
        "id": "M_UaqTssKN5A",
        "colab_type": "code",
        "colab": {
          "base_uri": "https://localhost:8080/",
          "height": 35
        },
        "outputId": "4838d6b4-136e-41b5-8410-074cb806ac88"
      },
      "source": [
        "s = '\\001\\002\\x03'\n",
        "print(s)"
      ],
      "execution_count": 9,
      "outputs": [
        {
          "output_type": "stream",
          "text": [
            "\u0001\u0002\u0003\n"
          ],
          "name": "stdout"
        }
      ]
    },
    {
      "cell_type": "markdown",
      "metadata": {
        "id": "BTvp8u0OLffT",
        "colab_type": "text"
      },
      "source": [
        "raw string in python\n",
        "\n",
        "'C:\\new\\text\\py' is considered as C:(newline)ew(tab)ext.py\n",
        "\n",
        "So to convert it to raw sttring, add r in beginning of the the string"
      ]
    },
    {
      "cell_type": "code",
      "metadata": {
        "id": "3bIoZDmvLgYb",
        "colab_type": "code",
        "colab": {
          "base_uri": "https://localhost:8080/",
          "height": 72
        },
        "outputId": "071c13fb-e4bb-4af7-f5ae-85112f02a098"
      },
      "source": [
        "mantra = '''always look\n",
        "on the bright\n",
        "side'''\n",
        "print(mantra)"
      ],
      "execution_count": 10,
      "outputs": [
        {
          "output_type": "stream",
          "text": [
            "always look\n",
            "on the bright\n",
            "side\n"
          ],
          "name": "stdout"
        }
      ]
    },
    {
      "cell_type": "code",
      "metadata": {
        "id": "Va2GTel7NBbv",
        "colab_type": "code",
        "colab": {
          "base_uri": "https://localhost:8080/",
          "height": 35
        },
        "outputId": "5ee1ee53-49cc-4aaf-9a9f-2c9b152a37c9"
      },
      "source": [
        "x = 1\n",
        "''' # disables this part of the code . Not executed\n",
        "import os'''\n",
        "print(x)"
      ],
      "execution_count": 11,
      "outputs": [
        {
          "output_type": "stream",
          "text": [
            "1\n"
          ],
          "name": "stdout"
        }
      ]
    },
    {
      "cell_type": "markdown",
      "metadata": {
        "id": "mm18D17cNnEj",
        "colab_type": "text"
      },
      "source": [
        "**STRING HANDLING AND MANIPULATION**"
      ]
    },
    {
      "cell_type": "code",
      "metadata": {
        "id": "a1xe-QQvNMij",
        "colab_type": "code",
        "colab": {
          "base_uri": "https://localhost:8080/",
          "height": 90
        },
        "outputId": "182f6e99-3ef5-4fc6-b411-307662f8ffb2"
      },
      "source": [
        "print(len('abc'))\n",
        "print('abc'+'def')\n",
        "print('Hi!'*4) # repeats 4 times\n",
        "print('-'*10) # prints n dahses"
      ],
      "execution_count": 12,
      "outputs": [
        {
          "output_type": "stream",
          "text": [
            "3\n",
            "abcdef\n",
            "Hi!Hi!Hi!Hi!\n",
            "----------\n"
          ],
          "name": "stdout"
        }
      ]
    },
    {
      "cell_type": "code",
      "metadata": {
        "id": "j88dJD8lNl54",
        "colab_type": "code",
        "colab": {
          "base_uri": "https://localhost:8080/",
          "height": 109
        },
        "outputId": "2e639ecd-daec-4dbc-b6ae-652be1387a62"
      },
      "source": [
        "s = 'spam'\n",
        "print(s[1:3]) # print from s[0] to s[3-1]\n",
        "print(s[1:]) \n",
        "print(s[0:3])\n",
        "print(s[:3])\n",
        "print(s[:-1])"
      ],
      "execution_count": 13,
      "outputs": [
        {
          "output_type": "stream",
          "text": [
            "pa\n",
            "pam\n",
            "spa\n",
            "spa\n",
            "spa\n"
          ],
          "name": "stdout"
        }
      ]
    }
  ]
}