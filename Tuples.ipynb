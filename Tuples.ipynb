{
  "nbformat": 4,
  "nbformat_minor": 0,
  "metadata": {
    "colab": {
      "name": "Tuples.ipynb",
      "provenance": [],
      "include_colab_link": true
    },
    "kernelspec": {
      "name": "python3",
      "display_name": "Python 3"
    }
  },
  "cells": [
    {
      "cell_type": "markdown",
      "metadata": {
        "id": "view-in-github",
        "colab_type": "text"
      },
      "source": [
        "<a href=\"https://colab.research.google.com/github/SnehhaPadmanabhan/Python-notes/blob/master/Tuples.ipynb\" target=\"_parent\"><img src=\"https://colab.research.google.com/assets/colab-badge.svg\" alt=\"Open In Colab\"/></a>"
      ]
    },
    {
      "cell_type": "markdown",
      "metadata": {
        "id": "jCqdwVpTKA-k",
        "colab_type": "text"
      },
      "source": [
        "**Tuples**\n",
        "\n",
        "Tuples are immutable, but lists are mutable\n",
        "\n",
        "Tuples use (), lists use []\n",
        "\n",
        "**2 tuple methods**\n",
        "\n",
        "1. index method\n",
        "\n",
        "2. count method"
      ]
    },
    {
      "cell_type": "code",
      "metadata": {
        "id": "S-P7bUG1J4qy",
        "colab_type": "code",
        "colab": {
          "base_uri": "https://localhost:8080/",
          "height": 54
        },
        "outputId": "ae318fa1-093f-4100-bcb9-f5b276ae2846"
      },
      "source": [
        "t = (1,2,3)\n",
        "print(t)\n",
        "print(type(t))"
      ],
      "execution_count": 1,
      "outputs": [
        {
          "output_type": "stream",
          "text": [
            "(1, 2, 3)\n",
            "<class 'tuple'>\n"
          ],
          "name": "stdout"
        }
      ]
    },
    {
      "cell_type": "code",
      "metadata": {
        "id": "WMSKCeO-KbTB",
        "colab_type": "code",
        "colab": {
          "base_uri": "https://localhost:8080/",
          "height": 72
        },
        "outputId": "2f87c57d-a8d1-42e1-c883-66c515ebdfe3"
      },
      "source": [
        "print(t[0])\n",
        "t = ('one',2,3)\n",
        "print(t)\n",
        "print(t[0])"
      ],
      "execution_count": 2,
      "outputs": [
        {
          "output_type": "stream",
          "text": [
            "1\n",
            "('one', 2, 3)\n",
            "one\n"
          ],
          "name": "stdout"
        }
      ]
    },
    {
      "cell_type": "code",
      "metadata": {
        "id": "ws7reA6gKoP3",
        "colab_type": "code",
        "colab": {
          "base_uri": "https://localhost:8080/",
          "height": 54
        },
        "outputId": "84409d5d-43f1-4350-f80a-66d8a26e722f"
      },
      "source": [
        "t1 = ('a','a','b','b')\n",
        "print(t1.count('a')) # count method\n",
        "print(t1.index('a')) # first occurance is returned in case of multiple occurances\n",
        "# print(t1.index('c')) # Error - element not found"
      ],
      "execution_count": 5,
      "outputs": [
        {
          "output_type": "stream",
          "text": [
            "2\n",
            "0\n"
          ],
          "name": "stdout"
        }
      ]
    },
    {
      "cell_type": "code",
      "metadata": {
        "id": "LdEKmGuZLTrZ",
        "colab_type": "code",
        "colab": {
          "base_uri": "https://localhost:8080/",
          "height": 146
        },
        "outputId": "49b6d89b-5a00-41af-e639-8f88377fe8e0"
      },
      "source": [
        "t = ()\n",
        "print(t)\n",
        "\n",
        "t = (0,) # single item tuple, must give comma and leave the remaining empty\n",
        "print(t)\n",
        "\n",
        "t = (0, 'nil', 1.234)\n",
        "print(t)\n",
        "\n",
        "t = (0, 'nil', (1,2,3)) # nested tuple\n",
        "print(t)\n",
        "\n",
        "t = 0, 1, 2 # can create tuple without paranthesis\n",
        "print(t)\n",
        "\n",
        "t = tuple('spam') # string to tuple conversion\n",
        "print(t)\n",
        "\n",
        "print(len(t)) # print length of tuple"
      ],
      "execution_count": 6,
      "outputs": [
        {
          "output_type": "stream",
          "text": [
            "()\n",
            "(0,)\n",
            "(0, 'nil', 1.234)\n",
            "(0, 'nil', (1, 2, 3))\n",
            "(0, 1, 2)\n",
            "('s', 'p', 'a', 'm')\n",
            "4\n"
          ],
          "name": "stdout"
        }
      ]
    },
    {
      "cell_type": "markdown",
      "metadata": {
        "id": "BFWmhDLrMmDj",
        "colab_type": "text"
      },
      "source": [
        "**Slicing**"
      ]
    },
    {
      "cell_type": "code",
      "metadata": {
        "id": "Y_qUGjqqMW6p",
        "colab_type": "code",
        "colab": {
          "base_uri": "https://localhost:8080/",
          "height": 72
        },
        "outputId": "5017ceb9-b7ec-4fd8-a312-a733b9238108"
      },
      "source": [
        "t = (1, 2, 3, 4, 5, 6, 7, 8, 9)\n",
        "print(t[1:3])\n",
        "print(t[-1])\n",
        "print(t[-1:-4])"
      ],
      "execution_count": 7,
      "outputs": [
        {
          "output_type": "stream",
          "text": [
            "(2, 3)\n",
            "9\n",
            "()\n"
          ],
          "name": "stdout"
        }
      ]
    },
    {
      "cell_type": "code",
      "metadata": {
        "id": "vUolYXcpNCxi",
        "colab_type": "code",
        "colab": {
          "base_uri": "https://localhost:8080/",
          "height": 72
        },
        "outputId": "47384a32-648b-4d9f-92d8-73d7b10af2de"
      },
      "source": [
        "t = ('s', 'p', 'a', 'm', 'm', 'i', 'n', 'g')\n",
        "print(t[1:3])\n",
        "print(t[-1])\n",
        "print(t[:-1])"
      ],
      "execution_count": 8,
      "outputs": [
        {
          "output_type": "stream",
          "text": [
            "('p', 'a')\n",
            "g\n",
            "('s', 'p', 'a', 'm', 'm', 'i', 'n')\n"
          ],
          "name": "stdout"
        }
      ]
    },
    {
      "cell_type": "markdown",
      "metadata": {
        "id": "hMYIPZ8VMpaq",
        "colab_type": "text"
      },
      "source": [
        "**Other operations**"
      ]
    },
    {
      "cell_type": "code",
      "metadata": {
        "id": "d3Fj39v5Msxs",
        "colab_type": "code",
        "colab": {
          "base_uri": "https://localhost:8080/",
          "height": 127
        },
        "outputId": "e1a6626c-4529-4512-fd4f-470b5fd37564"
      },
      "source": [
        "t1 = (1, 2, 3)\n",
        "t2 = (4, 5, 6)\n",
        "# concatenation\n",
        "print(t1 + t2)\n",
        "\n",
        "# creating copies\n",
        "print(t1 * 3)\n",
        "\n",
        "# traversal\n",
        "for x in t1: print(x, end=' ')\n",
        "\n",
        "# manipulating\n",
        "print((x**2 for x in t1)) # ???????????????????\n",
        "\n",
        "t = tuple('spam')\n",
        "print('spam' in t)\n",
        "print(('s','p') in t)\n",
        "print('s' in t)"
      ],
      "execution_count": 12,
      "outputs": [
        {
          "output_type": "stream",
          "text": [
            "(1, 2, 3, 4, 5, 6)\n",
            "(1, 2, 3, 1, 2, 3, 1, 2, 3)\n",
            "1 2 3 <generator object <genexpr> at 0x7f6115083ba0>\n",
            "False\n",
            "False\n",
            "True\n"
          ],
          "name": "stdout"
        }
      ]
    },
    {
      "cell_type": "code",
      "metadata": {
        "id": "3IuvEdDWNyTN",
        "colab_type": "code",
        "colab": {}
      },
      "source": [
        ""
      ],
      "execution_count": 0,
      "outputs": []
    }
  ]
}