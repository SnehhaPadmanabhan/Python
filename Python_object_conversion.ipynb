{
  "nbformat": 4,
  "nbformat_minor": 0,
  "metadata": {
    "colab": {
      "name": "Python object conversion.ipynb",
      "provenance": [],
      "include_colab_link": true
    },
    "kernelspec": {
      "name": "python3",
      "display_name": "Python 3"
    }
  },
  "cells": [
    {
      "cell_type": "markdown",
      "metadata": {
        "id": "view-in-github",
        "colab_type": "text"
      },
      "source": [
        "<a href=\"https://colab.research.google.com/github/SnehhaPadmanabhan/Python-notes/blob/master/Python_object_conversion.ipynb\" target=\"_parent\"><img src=\"https://colab.research.google.com/assets/colab-badge.svg\" alt=\"Open In Colab\"/></a>"
      ]
    },
    {
      "cell_type": "markdown",
      "metadata": {
        "id": "RMB9xuv80DQr",
        "colab_type": "text"
      },
      "source": [
        "**Storing native python objects : Pickle**\n",
        "\n",
        "- To convert strings to objects, we need to use the function \"eval\"\n",
        "\n",
        "- To store the native python objects but you don't the source of data, use the python standard library \"pickle\" module\n",
        "\n",
        "- The pickle module is a more advanced tool that allows us to store almost any python object in the file directory\n",
        "\n",
        "- To store a dictionary in the file, we can pickle them directly\n",
        "****\n",
        "\n",
        "D = {'a':1, 'b':2}\n",
        "\n",
        "f = open('datafile.pkl','wb')\n",
        "\n",
        "import pickle\n",
        "\n",
        "pickle.dump(D, f)\n",
        "\n",
        "f.close()\n",
        "\n",
        "****\n",
        "\n",
        "f = open('datafile.pkl','rb')\n",
        "\n",
        "e = pickle.load(f)\n",
        "\n",
        "print(e)\n",
        "\n",
        "*output* : {'a':1, 'b':2}\n",
        "\n",
        "****\n"
      ]
    },
    {
      "cell_type": "markdown",
      "metadata": {
        "id": "SUvIkSg30elM",
        "colab_type": "text"
      },
      "source": [
        "**Storing python objects in JSON format**\n",
        "\n",
        "- JSON is a newer and emerging data interchange format which is both programming language neutral and supported by a variety of systems\n",
        "\n",
        "- MongoDB, for instance, stores data in JSON document database using binary JSON format\n",
        "\n",
        "- A python dictionary with nested structures is very similar to JSON data though python's variables and expresssions support richer structuring options\n",
        "\n",
        "****\n",
        "\n",
        "\n",
        "name = dict(first = 'bob', last = 'smith')\n",
        "\n",
        "rec = dict(name = name, job = ['dev','mgr'], age = 40)\n",
        "\n",
        "print(rec)\n",
        "\n",
        "- *output* : ('job' :['dev', 'mgr'], 'name': {last = 'smith', first = 'bob', 'age': 40 })\n",
        "\n",
        "- *possibility that the data gets mingled as in the provious example*\n",
        "\n",
        "****\n",
        "- to trasfer to/from JSON\n",
        "\n",
        "import json\n",
        "\n",
        "print(json.dumps(rec))\n",
        " \n",
        "s = json.dumps(rec)  --->*python to json conversion*\n",
        "\n",
        "o = json.loads(s)  \n"
      ]
    },
    {
      "cell_type": "markdown",
      "metadata": {
        "id": "TlhBnLj27Oyk",
        "colab_type": "text"
      },
      "source": [
        "**Built in type gotchas**"
      ]
    },
    {
      "cell_type": "code",
      "metadata": {
        "id": "5sUkTwRT7VGT",
        "colab_type": "code",
        "colab": {
          "base_uri": "https://localhost:8080/",
          "height": 35
        },
        "outputId": "f8eb0780-02a5-4b31-fb30-61eb2e1b5a01"
      },
      "source": [
        "l= [1, 2, 3]\n",
        "m = ['x', l, 'y']\n",
        "print(m)"
      ],
      "execution_count": 1,
      "outputs": [
        {
          "output_type": "stream",
          "text": [
            "['x', [1, 2, 3], 'y']\n"
          ],
          "name": "stdout"
        }
      ]
    },
    {
      "cell_type": "markdown",
      "metadata": {
        "id": "91Di3smp7cZE",
        "colab_type": "text"
      },
      "source": [
        "**Repetition**"
      ]
    },
    {
      "cell_type": "code",
      "metadata": {
        "id": "z80a0tcc7d05",
        "colab_type": "code",
        "colab": {
          "base_uri": "https://localhost:8080/",
          "height": 90
        },
        "outputId": "b53122e7-bbaf-471b-9222-f2cfd169ad0c"
      },
      "source": [
        "l = [1, 2, 3]\n",
        "x = l*4\n",
        "print(x)\n",
        "\n",
        "# nested repetition\n",
        "y = [l]*4\n",
        "print(y)\n",
        "\n",
        "l[1] = 0\n",
        "print(x)\n",
        "print(y)"
      ],
      "execution_count": 2,
      "outputs": [
        {
          "output_type": "stream",
          "text": [
            "[1, 2, 3, 1, 2, 3, 1, 2, 3, 1, 2, 3]\n",
            "[[1, 2, 3], [1, 2, 3], [1, 2, 3], [1, 2, 3]]\n",
            "[1, 2, 3, 1, 2, 3, 1, 2, 3, 1, 2, 3]\n",
            "[[1, 0, 3], [1, 0, 3], [1, 0, 3], [1, 0, 3]]\n"
          ],
          "name": "stdout"
        }
      ]
    },
    {
      "cell_type": "markdown",
      "metadata": {
        "id": "UYOMSFDM9TFz",
        "colab_type": "text"
      },
      "source": [
        "**Python statements** \n",
        "\n",
        " Statements always exist in modules which themselves are managed in statements\n",
        "\n",
        "- Python programs are composed of statements and expressions\n",
        "\n",
        "- Expressions process object and are embedded in statements\n",
        "\n",
        "- Statements code the larger logic of a porgram's operation - they use and direct expressions to process the objects\n",
        "\n",
        "- Moreover, statements are objects spring into existence and some statements create entirely new kinds of objects"
      ]
    }
  ]
}