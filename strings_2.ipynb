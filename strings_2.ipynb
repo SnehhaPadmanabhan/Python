{
  "nbformat": 4,
  "nbformat_minor": 0,
  "metadata": {
    "colab": {
      "name": "strings-2.ipynb",
      "provenance": [],
      "include_colab_link": true
    },
    "kernelspec": {
      "name": "python3",
      "display_name": "Python 3"
    }
  },
  "cells": [
    {
      "cell_type": "markdown",
      "metadata": {
        "id": "view-in-github",
        "colab_type": "text"
      },
      "source": [
        "<a href=\"https://colab.research.google.com/github/SnehhaPadmanabhan/Python-notes/blob/master/strings_2.ipynb\" target=\"_parent\"><img src=\"https://colab.research.google.com/assets/colab-badge.svg\" alt=\"Open In Colab\"/></a>"
      ]
    },
    {
      "cell_type": "code",
      "metadata": {
        "id": "HlrzTep8cUH-",
        "colab_type": "code",
        "colab": {
          "base_uri": "https://localhost:8080/",
          "height": 35
        },
        "outputId": "1a7f8b8d-45c6-445d-a009-c1febf14aeba"
      },
      "source": [
        "str1 = \"hacker\"\n",
        "for c in str1 :\n",
        "  print(c, end = '*')"
      ],
      "execution_count": 1,
      "outputs": [
        {
          "output_type": "stream",
          "text": [
            "h*a*c*k*e*r*"
          ],
          "name": "stdout"
        }
      ]
    },
    {
      "cell_type": "code",
      "metadata": {
        "id": "CC7QA8jMcpBX",
        "colab_type": "code",
        "colab": {
          "base_uri": "https://localhost:8080/",
          "height": 35
        },
        "outputId": "87e1ccce-46eb-45dc-d5e1-addb12360b86"
      },
      "source": [
        "str1 = 'hacker'\n",
        "for c in str1:\n",
        "  print(r, end = '*') # loop variable is different"
      ],
      "execution_count": 3,
      "outputs": [
        {
          "output_type": "stream",
          "text": [
            "r*r*r*r*r*r*"
          ],
          "name": "stdout"
        }
      ]
    },
    {
      "cell_type": "code",
      "metadata": {
        "id": "uSOUypbdc7Rr",
        "colab_type": "code",
        "colab": {
          "base_uri": "https://localhost:8080/",
          "height": 35
        },
        "outputId": "52daf486-61d9-4b4f-c56b-8808bf1a8009"
      },
      "source": [
        "if ( 'Good' in 'Good Morning') : # substring check\n",
        "  print(\"Is present\")"
      ],
      "execution_count": 5,
      "outputs": [
        {
          "output_type": "stream",
          "text": [
            "Is present\n"
          ],
          "name": "stdout"
        }
      ]
    },
    {
      "cell_type": "markdown",
      "metadata": {
        "id": "5-V7PhHSdRzK",
        "colab_type": "text"
      },
      "source": [
        "**Indexing and Slicing strings**\n",
        "\n",
        "from first to last : indexing is 0...n-1\n",
        "\n",
        "fro last to first : -1,-2....n"
      ]
    },
    {
      "cell_type": "code",
      "metadata": {
        "id": "H8Omgl_vdkqP",
        "colab_type": "code",
        "colab": {
          "base_uri": "https://localhost:8080/",
          "height": 201
        },
        "outputId": "d33df45d-c8db-48f7-fa21-c4e9d018fd44"
      },
      "source": [
        "s = 'computer'\n",
        "print(s[2])\n",
        "print(s[1:2]) # upto 2nd value -1\n",
        "print(s[:])\n",
        "print(s[:4])\n",
        "print(s[0:])\n",
        "print(s[2:4])\n",
        "print(s[-3])\n",
        "print(s[-3:-1])\n",
        "print(s[2:-4]) # mixed indexing\n",
        "print(s[2:-6]) # same position reference - no output"
      ],
      "execution_count": 6,
      "outputs": [
        {
          "output_type": "stream",
          "text": [
            "m\n",
            "o\n",
            "computer\n",
            "comp\n",
            "computer\n",
            "mp\n",
            "t\n",
            "te\n",
            "mp\n",
            "\n"
          ],
          "name": "stdout"
        }
      ]
    },
    {
      "cell_type": "markdown",
      "metadata": {
        "id": "2wLufOXkgAHI",
        "colab_type": "text"
      },
      "source": [
        "**Extended Slicing** "
      ]
    },
    {
      "cell_type": "code",
      "metadata": {
        "id": "_6ELHC52ebWM",
        "colab_type": "code",
        "colab": {
          "base_uri": "https://localhost:8080/",
          "height": 146
        },
        "outputId": "715bdfff-aa4b-4ea5-eb7c-6d38ffe024bf"
      },
      "source": [
        "s = '0123456789'\n",
        "print(s[0:8:1]) # lower bound, upper bound, jump value\n",
        "print(s[0:8:2])\n",
        "print(s[-3])\n",
        "print(s[0:8:3])\n",
        "print(s[0:-4:1])\n",
        "print(s[-1:-4:1]) # error because jump value is wrong for the given direction\n",
        "print(s[-4:-1:1]) # correct version of previous line"
      ],
      "execution_count": 7,
      "outputs": [
        {
          "output_type": "stream",
          "text": [
            "01234567\n",
            "0246\n",
            "7\n",
            "036\n",
            "012345\n",
            "\n",
            "678\n"
          ],
          "name": "stdout"
        }
      ]
    },
    {
      "cell_type": "code",
      "metadata": {
        "id": "1x_M1Gw_gOmn",
        "colab_type": "code",
        "colab": {
          "base_uri": "https://localhost:8080/",
          "height": 109
        },
        "outputId": "8d1fda49-0cfb-4920-a0c2-8df0ed2fd081"
      },
      "source": [
        "print('spam'[slice(1,3)]) # slicing using in built function\n",
        "print('spam'[1:3]) # normal slicing\n",
        "print('spam'[::2])\n",
        "print('spam'[:-1])\n",
        "print('spam'[::-1]) # reversal using extended slicing"
      ],
      "execution_count": 9,
      "outputs": [
        {
          "output_type": "stream",
          "text": [
            "pa\n",
            "pa\n",
            "sa\n",
            "spa\n",
            "maps\n"
          ],
          "name": "stdout"
        }
      ]
    },
    {
      "cell_type": "markdown",
      "metadata": {
        "id": "bHaIMCwuhC7p",
        "colab_type": "text"
      },
      "source": [
        "**String Conversion**"
      ]
    },
    {
      "cell_type": "code",
      "metadata": {
        "id": "b7VIljrrhFWY",
        "colab_type": "code",
        "colab": {
          "base_uri": "https://localhost:8080/",
          "height": 172
        },
        "outputId": "6ef3cbc1-2c82-400b-cf19-91bd16a03be4"
      },
      "source": [
        "print(\"42\"+1) # different data types leads to confusion and hence type error"
      ],
      "execution_count": 10,
      "outputs": [
        {
          "output_type": "error",
          "ename": "TypeError",
          "evalue": "ignored",
          "traceback": [
            "\u001b[0;31m---------------------------------------------------------------------------\u001b[0m",
            "\u001b[0;31mTypeError\u001b[0m                                 Traceback (most recent call last)",
            "\u001b[0;32m<ipython-input-10-122b36a2d243>\u001b[0m in \u001b[0;36m<module>\u001b[0;34m()\u001b[0m\n\u001b[0;32m----> 1\u001b[0;31m \u001b[0mprint\u001b[0m\u001b[0;34m(\u001b[0m\u001b[0;34m\"42\"\u001b[0m\u001b[0;34m+\u001b[0m\u001b[0;36m1\u001b[0m\u001b[0;34m)\u001b[0m \u001b[0;31m# different data types leads to confusion and hence type error\u001b[0m\u001b[0;34m\u001b[0m\u001b[0;34m\u001b[0m\u001b[0m\n\u001b[0m",
            "\u001b[0;31mTypeError\u001b[0m: must be str, not int"
          ]
        }
      ]
    },
    {
      "cell_type": "code",
      "metadata": {
        "id": "tNmSNdO9hdE9",
        "colab_type": "code",
        "colab": {
          "base_uri": "https://localhost:8080/",
          "height": 54
        },
        "outputId": "445171af-2d77-4832-dbc9-b9049e93f390"
      },
      "source": [
        "print(int(\"42\")+1) # alternative solution\n",
        "print(\"42\"+str(1)) # alternative solution"
      ],
      "execution_count": 11,
      "outputs": [
        {
          "output_type": "stream",
          "text": [
            "43\n",
            "421\n"
          ],
          "name": "stdout"
        }
      ]
    },
    {
      "cell_type": "code",
      "metadata": {
        "id": "HNhqSSIGilW7",
        "colab_type": "code",
        "colab": {
          "base_uri": "https://localhost:8080/",
          "height": 35
        },
        "outputId": "51e23043-bb81-4091-ecef-f8a7f71bd000"
      },
      "source": [
        "print(repr(42)) # representing as string"
      ],
      "execution_count": 12,
      "outputs": [
        {
          "output_type": "stream",
          "text": [
            "42\n"
          ],
          "name": "stdout"
        }
      ]
    },
    {
      "cell_type": "markdown",
      "metadata": {
        "id": "vHrjguHajmaj",
        "colab_type": "text"
      },
      "source": [
        "**Character code conversions**"
      ]
    },
    {
      "cell_type": "code",
      "metadata": {
        "id": "MTYI3ilvjp6h",
        "colab_type": "code",
        "colab": {
          "base_uri": "https://localhost:8080/",
          "height": 72
        },
        "outputId": "3d065290-39d1-4023-e039-2b691301f978"
      },
      "source": [
        "print(ord('s')) # character to ascii\n",
        "print(chr(115)) # ascii to character\n",
        "s = '5'\n",
        "print(chr(ord(s)+1)) # ascii value of 5 + 1"
      ],
      "execution_count": 14,
      "outputs": [
        {
          "output_type": "stream",
          "text": [
            "115\n",
            "s\n",
            "6\n"
          ],
          "name": "stdout"
        }
      ]
    },
    {
      "cell_type": "code",
      "metadata": {
        "id": "1rZi5hBhkJA9",
        "colab_type": "code",
        "colab": {
          "base_uri": "https://localhost:8080/",
          "height": 54
        },
        "outputId": "60d5514b-8cac-4554-b4b2-e0f77ce4334c"
      },
      "source": [
        "# binary to integer conversion\n",
        "print(int('1101',2)) \n",
        "# integerto binary conversion\n",
        "print(bin(13))"
      ],
      "execution_count": 16,
      "outputs": [
        {
          "output_type": "stream",
          "text": [
            "13\n",
            "0b1101\n"
          ],
          "name": "stdout"
        }
      ]
    },
    {
      "cell_type": "markdown",
      "metadata": {
        "id": "Jv36TO6nkuo0",
        "colab_type": "text"
      },
      "source": [
        "**Changing Strings**\n",
        "  \n",
        "Immutable - cannot be rewritten again anywhere else in the program\n",
        "\n",
        "ie. s[0]='a' -> error\n",
        "\n",
        "Following cells show how to manipulate immutable strings"
      ]
    },
    {
      "cell_type": "code",
      "metadata": {
        "id": "w9nJOkyrlSYi",
        "colab_type": "code",
        "colab": {
          "base_uri": "https://localhost:8080/",
          "height": 35
        },
        "outputId": "865ab44e-8185-4cd1-e348-14d29f3b0ea6"
      },
      "source": [
        "s = 'good'\n",
        "s = s + 'morning' + s[-1]\n",
        "print(s)"
      ],
      "execution_count": 17,
      "outputs": [
        {
          "output_type": "stream",
          "text": [
            "goodmorningd\n"
          ],
          "name": "stdout"
        }
      ]
    },
    {
      "cell_type": "code",
      "metadata": {
        "id": "bvv36ZDYmNRH",
        "colab_type": "code",
        "colab": {
          "base_uri": "https://localhost:8080/",
          "height": 35
        },
        "outputId": "261fa31b-916a-4587-fca5-25e22f793673"
      },
      "source": [
        "s = 'good'\n",
        "s = s.replace('oo','ri')\n",
        "print(s)"
      ],
      "execution_count": 19,
      "outputs": [
        {
          "output_type": "stream",
          "text": [
            "grid\n"
          ],
          "name": "stdout"
        }
      ]
    },
    {
      "cell_type": "code",
      "metadata": {
        "id": "ZgLTbBFemWfS",
        "colab_type": "code",
        "colab": {
          "base_uri": "https://localhost:8080/",
          "height": 35
        },
        "outputId": "24186d38-130a-477f-aecb-f4d91ebc95d7"
      },
      "source": [
        "print(\"That is %d %s bird !\" %(1,'dead'))"
      ],
      "execution_count": 20,
      "outputs": [
        {
          "output_type": "stream",
          "text": [
            "That is 1 dead bird !\n"
          ],
          "name": "stdout"
        }
      ]
    },
    {
      "cell_type": "markdown",
      "metadata": {
        "id": "P8r1jR_bmqyw",
        "colab_type": "text"
      },
      "source": [
        "**String methods**\n",
        "\n",
        "1.  Atribute fetches\n",
        "2.  call expressions\n",
        "\n",
        "object.method(attribute)"
      ]
    },
    {
      "cell_type": "code",
      "metadata": {
        "id": "4EOLLHKonIvJ",
        "colab_type": "code",
        "colab": {
          "base_uri": "https://localhost:8080/",
          "height": 35
        },
        "outputId": "9e1d9ced-3150-44c6-f741-e465e4986018"
      },
      "source": [
        "s = 'spam'\n",
        "result = s.find('pa')\n",
        "print(result)"
      ],
      "execution_count": 21,
      "outputs": [
        {
          "output_type": "stream",
          "text": [
            "1\n"
          ],
          "name": "stdout"
        }
      ]
    }
  ]
}